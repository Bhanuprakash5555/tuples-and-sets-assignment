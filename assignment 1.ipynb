{
 "cells": [
  {
   "cell_type": "code",
   "execution_count": 1,
   "id": "2b2b6ad4-8d68-4424-88fb-0d67aa0b352f",
   "metadata": {},
   "outputs": [],
   "source": [
    "#Q1. What are the characteristics of the tuples? Is tuple immutable?"
   ]
  },
  {
   "cell_type": "code",
   "execution_count": 2,
   "id": "8fe055fa-3183-4323-8653-d22e96c5d43c",
   "metadata": {},
   "outputs": [],
   "source": [
    "#1ans) Tuples consists a list of data similiar to lists in python.\n",
    "#We can access the slicing operations in tuples.\n",
    "#Tuples are having count method and index method.\n",
    "#Yes,Tuples are immutable."
   ]
  },
  {
   "cell_type": "code",
   "execution_count": 9,
   "id": "2fed3a30-4c9d-4724-ad3c-188bf965e990",
   "metadata": {},
   "outputs": [],
   "source": [
    "\"\"\"Q2. What are the two tuple methods in python? Give an example of each method. \n",
    "Give a reason why tuples have only two in-built methods as compared to Lists\"\"\""
   ]
  },
  {
   "cell_type": "code",
   "execution_count": 8,
   "id": "322d77e1-08db-44f8-8e0e-0e0da0f62d42",
   "metadata": {},
   "outputs": [],
   "source": [
    "\"\"\"2 Ans) The two tuple methods in python are count and index.\n",
    "example for each method\"\"\""
   ]
  },
  {
   "cell_type": "code",
   "execution_count": 11,
   "id": "3c03efb2-211b-4e62-9af2-d6f87d51ea57",
   "metadata": {},
   "outputs": [],
   "source": [
    "t1=(1,2,3,4,5,6,1,2,3,1,1,1)"
   ]
  },
  {
   "cell_type": "code",
   "execution_count": 15,
   "id": "785650d5-ce1d-47d3-8807-f29d0ec46923",
   "metadata": {},
   "outputs": [
    {
     "data": {
      "text/plain": [
       "5"
      ]
     },
     "execution_count": 15,
     "metadata": {},
     "output_type": "execute_result"
    }
   ],
   "source": [
    "t1.count(1)"
   ]
  },
  {
   "cell_type": "code",
   "execution_count": 17,
   "id": "b1447ee5-cc81-4b90-a259-650975fe4b1b",
   "metadata": {},
   "outputs": [
    {
     "data": {
      "text/plain": [
       "5"
      ]
     },
     "execution_count": 17,
     "metadata": {},
     "output_type": "execute_result"
    }
   ],
   "source": [
    "t1.index(6)"
   ]
  },
  {
   "cell_type": "code",
   "execution_count": 19,
   "id": "45b69f58-13d0-403d-b2b8-fb6f27646d2e",
   "metadata": {},
   "outputs": [],
   "source": [
    "\"\"\"Q3.  Which collection datatypes in python do not allow duplicate items? Write a code using a set to remove \n",
    "duplicates from the given list\"\"\""
   ]
  },
  {
   "cell_type": "code",
   "execution_count": null,
   "id": "588f045e-d231-45a9-a6c7-a31dd8a644b1",
   "metadata": {},
   "outputs": [],
   "source": [
    "\"\"\"3ans) Set datatype in do not allow duplicate items.\n",
    "the code is given below\"\"\""
   ]
  },
  {
   "cell_type": "code",
   "execution_count": 20,
   "id": "a9ddd0ea-0da4-4a01-b5ae-aefef7714371",
   "metadata": {},
   "outputs": [],
   "source": [
    "List = [1, 1, 1, 2, 1, 3, 1, 4, 2, 1, 2, 2, 2, 3, 2, 4, 3, 1, 3, 2, 3, 3, 3, 4, 4, 1, 4, 2, 4, 3, 4, 4]"
   ]
  },
  {
   "cell_type": "code",
   "execution_count": 26,
   "id": "7c346383-910a-47bc-8de1-3b811708eebc",
   "metadata": {},
   "outputs": [
    {
     "data": {
      "text/plain": [
       "{1, 2, 3, 4}"
      ]
     },
     "execution_count": 26,
     "metadata": {},
     "output_type": "execute_result"
    }
   ],
   "source": [
    "s1=set(List)\n",
    "s1"
   ]
  },
  {
   "cell_type": "code",
   "execution_count": null,
   "id": "7849ae04-9584-486f-9322-bce1130439b6",
   "metadata": {},
   "outputs": [],
   "source": [
    "\"\"\"Q4. Explain the difference between the union() and update() methods for a set. Give an example of \n",
    "each method.\"\"\""
   ]
  },
  {
   "cell_type": "code",
   "execution_count": 41,
   "id": "7a640aef-5094-41f4-8edd-7bdaa78197ce",
   "metadata": {},
   "outputs": [
    {
     "data": {
      "text/plain": [
       "{3, 4, 5, 6, 7, 9}"
      ]
     },
     "execution_count": 41,
     "metadata": {},
     "output_type": "execute_result"
    }
   ],
   "source": [
    "s2={3,4,5}\n",
    "s3={6,4,7,9}\n",
    "s2.union(s3)"
   ]
  },
  {
   "cell_type": "code",
   "execution_count": 53,
   "id": "5d9e15df-9d30-4e94-9014-f0d6b4580b8c",
   "metadata": {},
   "outputs": [],
   "source": [
    "s4={33,45,55,66}\n",
    "s5={11,77,72,83,99}\n",
    "s4.update(s5)"
   ]
  },
  {
   "cell_type": "code",
   "execution_count": 54,
   "id": "5f302642-4a66-46fc-ba00-1862b446a17a",
   "metadata": {},
   "outputs": [
    {
     "data": {
      "text/plain": [
       "{11, 33, 45, 55, 66, 72, 77, 83, 99}"
      ]
     },
     "execution_count": 54,
     "metadata": {},
     "output_type": "execute_result"
    }
   ],
   "source": [
    "s4"
   ]
  },
  {
   "cell_type": "code",
   "execution_count": 55,
   "id": "049c27d0-39d5-4afe-ad8a-eaf6debd83aa",
   "metadata": {},
   "outputs": [],
   "source": [
    "#union() of two sets gives the all values present in first set and second set.\n",
    "#update() of two sets updates the values of one set with inclusive of second set."
   ]
  },
  {
   "cell_type": "code",
   "execution_count": 57,
   "id": "4bff3e73-2bfe-40ca-b2f7-772f07b54cea",
   "metadata": {},
   "outputs": [],
   "source": [
    "\"\"\"Q5. What is a dictionary? Give an example. Also, state whether a dictionary is ordered or unordered.\"\"\""
   ]
  },
  {
   "cell_type": "code",
   "execution_count": 60,
   "id": "dd924703-914e-4b11-8bc3-8900d1b17ed7",
   "metadata": {},
   "outputs": [],
   "source": [
    "\"\"\"5ans) Dictionary is a collection of items which consist a key and variable pairs.\n",
    "Dictionary is ordered\"\"\""
   ]
  },
  {
   "cell_type": "code",
   "execution_count": 62,
   "id": "094463a5-aab4-49fb-8491-99213902ef04",
   "metadata": {},
   "outputs": [
    {
     "data": {
      "text/plain": [
       "{'name': 'bhanu', 'class': 'dsm'}"
      ]
     },
     "execution_count": 62,
     "metadata": {},
     "output_type": "execute_result"
    }
   ],
   "source": [
    "d1={\"name\":\"bhanu\",\"class\":\"dsm\"}\n",
    "d1"
   ]
  },
  {
   "cell_type": "code",
   "execution_count": null,
   "id": "d1d29f4b-350a-4991-a31f-5f3b6cf09db7",
   "metadata": {},
   "outputs": [],
   "source": [
    "\"\"\"Q6. Can we create a nested dictionary? If so, please give an example by creating a simple one-level \n",
    "nested dictionary.\"\"\""
   ]
  },
  {
   "cell_type": "code",
   "execution_count": null,
   "id": "e1399a66-cac1-4c9d-baa9-aa51485748a8",
   "metadata": {},
   "outputs": [],
   "source": [
    "\"\"\"6ans) Yes, we can create a nested dictionary.\n",
    "keys cannot be dictionaries.But values can be dictionaries.\n",
    "If we use a dictionary for a \"value\" in a dictionary ,it is known as nested dictionary. \n",
    "example is given below\"\"\""
   ]
  },
  {
   "cell_type": "code",
   "execution_count": 63,
   "id": "a4eb409a-0ab5-419b-92cb-8eb0ec92743c",
   "metadata": {},
   "outputs": [],
   "source": [
    "d3={\"name\":{\"nickname\":\"sonu\",\"realname\":\"bhanu\"}}"
   ]
  },
  {
   "cell_type": "code",
   "execution_count": 64,
   "id": "9f2b7892-cc2e-470e-9039-a3215db0a97e",
   "metadata": {},
   "outputs": [
    {
     "data": {
      "text/plain": [
       "{'name': {'nickname': 'sonu', 'realname': 'bhanu'}}"
      ]
     },
     "execution_count": 64,
     "metadata": {},
     "output_type": "execute_result"
    }
   ],
   "source": [
    "d3"
   ]
  },
  {
   "cell_type": "code",
   "execution_count": null,
   "id": "55648f60-6070-4024-a198-78da5522822c",
   "metadata": {},
   "outputs": [],
   "source": [
    "\"\"\"Q7. Using setdefault() method, create key named topics in the given dictionary and also add the value of \n",
    "the key as this list ['Python', 'Machine Learning’, 'Deep Learning']\"\"\""
   ]
  },
  {
   "cell_type": "code",
   "execution_count": 69,
   "id": "d94314a9-c319-4cb5-8e04-c00b5d3c21d1",
   "metadata": {},
   "outputs": [],
   "source": [
    "d9={\"name\":{\"bhanu\",\"ramu\",\"krishna\"},\"age\":[23,43,51]}"
   ]
  },
  {
   "cell_type": "code",
   "execution_count": 70,
   "id": "8b69c85c-3c77-4cab-ab22-f870490474f4",
   "metadata": {},
   "outputs": [
    {
     "data": {
      "text/plain": [
       "{'name': {'bhanu', 'krishna', 'ramu'}, 'age': [23, 43, 51]}"
      ]
     },
     "execution_count": 70,
     "metadata": {},
     "output_type": "execute_result"
    }
   ],
   "source": [
    "d9"
   ]
  },
  {
   "cell_type": "code",
   "execution_count": null,
   "id": "09050cf0-7263-4d22-a6fd-1d850a889e71",
   "metadata": {},
   "outputs": [],
   "source": []
  },
  {
   "cell_type": "code",
   "execution_count": null,
   "id": "e9cd96a9-e36b-4713-9f17-c708d990998d",
   "metadata": {},
   "outputs": [],
   "source": []
  },
  {
   "cell_type": "code",
   "execution_count": 76,
   "id": "06fb0bd0-580c-4054-be90-684d32b70552",
   "metadata": {},
   "outputs": [
    {
     "data": {
      "text/plain": [
       "('python', 'machine learning', 'deep learning')"
      ]
     },
     "execution_count": 76,
     "metadata": {},
     "output_type": "execute_result"
    }
   ],
   "source": [
    "d9.setdefault(\"coursename\",(\"python\",\"machine learning\",\"deep learning\"))"
   ]
  },
  {
   "cell_type": "code",
   "execution_count": 77,
   "id": "ce722321-6ac2-4012-b745-cbaf7b1a312d",
   "metadata": {},
   "outputs": [
    {
     "data": {
      "text/plain": [
       "{'name': {'bhanu', 'krishna', 'ramu'},\n",
       " 'age': [23, 43, 51],\n",
       " 'coursename': ('python', 'machine learning', 'deep learning')}"
      ]
     },
     "execution_count": 77,
     "metadata": {},
     "output_type": "execute_result"
    }
   ],
   "source": [
    "d9"
   ]
  },
  {
   "cell_type": "code",
   "execution_count": null,
   "id": "9d3c420c-4a3e-4521-8938-d181621ebbe5",
   "metadata": {},
   "outputs": [],
   "source": [
    "\"\"\"Q8. What are the three view objects in dictionaries? Use the three in-built methods in python to display \n",
    "these three view objects for the given dictionary.\n",
    "\n",
    "\n",
    "dict1 = {'Sport': 'Cricket' , 'Teams': ['India', 'Australia', 'England', 'South Africa', 'Sri Lanka', 'New Zealand']}\"\"\""
   ]
  },
  {
   "cell_type": "code",
   "execution_count": 79,
   "id": "8a9050b4-4f2b-4713-af6b-3cf57ec1b222",
   "metadata": {},
   "outputs": [],
   "source": [
    "\"\"\"The three view objects in the dictionaries are keys,values and objects.\"\"\""
   ]
  },
  {
   "cell_type": "code",
   "execution_count": 80,
   "id": "dd958341-312f-4dd5-a1ab-a45f32092319",
   "metadata": {},
   "outputs": [],
   "source": [
    "dict1 = {'Sport': 'Cricket' , 'Teams': ['India', 'Australia', 'England', 'South Africa', 'Sri Lanka', 'New Zealand']}"
   ]
  },
  {
   "cell_type": "code",
   "execution_count": 81,
   "id": "d33986d3-b6ee-41ce-a812-f367f1368fa8",
   "metadata": {},
   "outputs": [
    {
     "data": {
      "text/plain": [
       "dict_keys(['Sport', 'Teams'])"
      ]
     },
     "execution_count": 81,
     "metadata": {},
     "output_type": "execute_result"
    }
   ],
   "source": [
    "dict1.keys()"
   ]
  },
  {
   "cell_type": "code",
   "execution_count": 82,
   "id": "3ca48853-d0ec-4af2-b557-f3fe6b8a7311",
   "metadata": {},
   "outputs": [
    {
     "data": {
      "text/plain": [
       "dict_values(['Cricket', ['India', 'Australia', 'England', 'South Africa', 'Sri Lanka', 'New Zealand']])"
      ]
     },
     "execution_count": 82,
     "metadata": {},
     "output_type": "execute_result"
    }
   ],
   "source": [
    "dict1.values()"
   ]
  },
  {
   "cell_type": "code",
   "execution_count": 83,
   "id": "65cacc80-0bc8-4385-bfed-fb27eb3c8eb2",
   "metadata": {},
   "outputs": [
    {
     "data": {
      "text/plain": [
       "dict_items([('Sport', 'Cricket'), ('Teams', ['India', 'Australia', 'England', 'South Africa', 'Sri Lanka', 'New Zealand'])])"
      ]
     },
     "execution_count": 83,
     "metadata": {},
     "output_type": "execute_result"
    }
   ],
   "source": [
    "dict1.items()"
   ]
  },
  {
   "cell_type": "code",
   "execution_count": null,
   "id": "0294c467-6430-4b1d-b042-c26f529d9dea",
   "metadata": {},
   "outputs": [],
   "source": []
  }
 ],
 "metadata": {
  "kernelspec": {
   "display_name": "Python 3 (ipykernel)",
   "language": "python",
   "name": "python3"
  },
  "language_info": {
   "codemirror_mode": {
    "name": "ipython",
    "version": 3
   },
   "file_extension": ".py",
   "mimetype": "text/x-python",
   "name": "python",
   "nbconvert_exporter": "python",
   "pygments_lexer": "ipython3",
   "version": "3.10.8"
  }
 },
 "nbformat": 4,
 "nbformat_minor": 5
}
